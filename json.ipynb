{
 "cells": [
  {
   "cell_type": "code",
   "execution_count": 23,
   "id": "ac07f18e",
   "metadata": {},
   "outputs": [],
   "source": [
    "import json\n",
    "import pandas as pd\n",
    "import requests"
   ]
  },
  {
   "cell_type": "code",
   "execution_count": 24,
   "id": "fb82f5ae",
   "metadata": {},
   "outputs": [],
   "source": [
    "request = \"https://api.modv.io/swagger/docs\""
   ]
  },
  {
   "cell_type": "code",
   "execution_count": 25,
   "id": "7c08ecab",
   "metadata": {},
   "outputs": [],
   "source": [
    "responce = requests.get(request).json()"
   ]
  },
  {
   "cell_type": "code",
   "execution_count": 58,
   "id": "9c66a7b7",
   "metadata": {},
   "outputs": [],
   "source": [
    "def flatten_json(nested_json):\n",
    "    out = {}\n",
    "\n",
    "    def flatten(x, name=''):\n",
    "        if type(x) is dict:\n",
    "            for a in x:\n",
    "                flatten(x[a], name + a + '_')\n",
    "        elif type(x) is list:\n",
    "            i = 0\n",
    "            for a in x:\n",
    "                flatten(a, name + str(i) + '_')\n",
    "                i += 1\n",
    "        else:\n",
    "            out[name[:-1]] = x\n",
    "\n",
    "    flatten(nested_json)\n",
    "    return out\n",
    "    "
   ]
  },
  {
   "cell_type": "code",
   "execution_count": 62,
   "id": "fb185cb6",
   "metadata": {},
   "outputs": [],
   "source": [
    "df = pd.Series(flatten_json(responce)).to_frame()"
   ]
  },
  {
   "cell_type": "code",
   "execution_count": 63,
   "id": "030c92f8",
   "metadata": {},
   "outputs": [
    {
     "data": {
      "text/html": [
       "<div>\n",
       "<style scoped>\n",
       "    .dataframe tbody tr th:only-of-type {\n",
       "        vertical-align: middle;\n",
       "    }\n",
       "\n",
       "    .dataframe tbody tr th {\n",
       "        vertical-align: top;\n",
       "    }\n",
       "\n",
       "    .dataframe thead th {\n",
       "        text-align: right;\n",
       "    }\n",
       "</style>\n",
       "<table border=\"1\" class=\"dataframe\">\n",
       "  <thead>\n",
       "    <tr style=\"text-align: right;\">\n",
       "      <th></th>\n",
       "      <th>0</th>\n",
       "    </tr>\n",
       "  </thead>\n",
       "  <tbody>\n",
       "    <tr>\n",
       "      <th>swagger</th>\n",
       "      <td>2.0</td>\n",
       "    </tr>\n",
       "    <tr>\n",
       "      <th>basePath</th>\n",
       "      <td>/</td>\n",
       "    </tr>\n",
       "    <tr>\n",
       "      <th>x-aws-api-gateway-path</th>\n",
       "      <td>/core/</td>\n",
       "    </tr>\n",
       "    <tr>\n",
       "      <th>securityDefinitions_jwt_description</th>\n",
       "      <td>Portal Middleware JWT Token</td>\n",
       "    </tr>\n",
       "    <tr>\n",
       "      <th>securityDefinitions_jwt_type</th>\n",
       "      <td>apiKey</td>\n",
       "    </tr>\n",
       "    <tr>\n",
       "      <th>...</th>\n",
       "      <td>...</td>\n",
       "    </tr>\n",
       "    <tr>\n",
       "      <th>definitions_PasswordManager_properties_enterprise_type</th>\n",
       "      <td>string</td>\n",
       "    </tr>\n",
       "    <tr>\n",
       "      <th>definitions_PasswordManagerPageResponse_properties_data_type</th>\n",
       "      <td>array</td>\n",
       "    </tr>\n",
       "    <tr>\n",
       "      <th>definitions_PasswordManagerPageResponse_properties_data_items_$ref</th>\n",
       "      <td>#/definitions/PasswordManager</td>\n",
       "    </tr>\n",
       "    <tr>\n",
       "      <th>definitions_PasswordManagerPageResponse_properties_pageInfo_$ref</th>\n",
       "      <td>#/definitions/PageInfo</td>\n",
       "    </tr>\n",
       "    <tr>\n",
       "      <th>host</th>\n",
       "      <td>api.modv.io</td>\n",
       "    </tr>\n",
       "  </tbody>\n",
       "</table>\n",
       "<p>3287 rows × 1 columns</p>\n",
       "</div>"
      ],
      "text/plain": [
       "                                                                                0\n",
       "swagger                                                                       2.0\n",
       "basePath                                                                        /\n",
       "x-aws-api-gateway-path                                                     /core/\n",
       "securityDefinitions_jwt_description                   Portal Middleware JWT Token\n",
       "securityDefinitions_jwt_type                                               apiKey\n",
       "...                                                                           ...\n",
       "definitions_PasswordManager_properties_enterpri...                         string\n",
       "definitions_PasswordManagerPageResponse_propert...                          array\n",
       "definitions_PasswordManagerPageResponse_propert...  #/definitions/PasswordManager\n",
       "definitions_PasswordManagerPageResponse_propert...         #/definitions/PageInfo\n",
       "host                                                                  api.modv.io\n",
       "\n",
       "[3287 rows x 1 columns]"
      ]
     },
     "execution_count": 63,
     "metadata": {},
     "output_type": "execute_result"
    }
   ],
   "source": [
    " df"
   ]
  }
 ],
 "metadata": {
  "kernelspec": {
   "display_name": "Python 3 (ipykernel)",
   "language": "python",
   "name": "python3"
  },
  "language_info": {
   "codemirror_mode": {
    "name": "ipython",
    "version": 3
   },
   "file_extension": ".py",
   "mimetype": "text/x-python",
   "name": "python",
   "nbconvert_exporter": "python",
   "pygments_lexer": "ipython3",
   "version": "3.9.2"
  }
 },
 "nbformat": 4,
 "nbformat_minor": 5
}
